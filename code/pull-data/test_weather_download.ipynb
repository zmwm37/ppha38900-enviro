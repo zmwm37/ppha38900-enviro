{
 "cells": [
  {
   "cell_type": "code",
   "execution_count": 2,
   "metadata": {},
   "outputs": [],
   "source": [
    "import pandas as pd\n",
    "import numpy as np\n",
    "from meteostat import Stations, Daily\n",
    "from datetime import datetime\n",
    "import matplotlib.pyplot as plt\n",
    "import seaborn as sns"
   ]
  },
  {
   "cell_type": "code",
   "execution_count": 3,
   "metadata": {},
   "outputs": [],
   "source": [
    "# lat/long for SFO\n",
    "sfo_lat = 37.61961\n",
    "sfo_lon = -122.36558"
   ]
  },
  {
   "cell_type": "code",
   "execution_count": 4,
   "metadata": {},
   "outputs": [],
   "source": [
    "stations = Stations()\n",
    "stations = stations.nearby(sfo_lat, sfo_lon)"
   ]
  },
  {
   "cell_type": "code",
   "execution_count": 5,
   "metadata": {},
   "outputs": [
    {
     "data": {
      "text/html": [
       "<div>\n",
       "<style scoped>\n",
       "    .dataframe tbody tr th:only-of-type {\n",
       "        vertical-align: middle;\n",
       "    }\n",
       "\n",
       "    .dataframe tbody tr th {\n",
       "        vertical-align: top;\n",
       "    }\n",
       "\n",
       "    .dataframe thead th {\n",
       "        text-align: right;\n",
       "    }\n",
       "</style>\n",
       "<table border=\"1\" class=\"dataframe\">\n",
       "  <thead>\n",
       "    <tr style=\"text-align: right;\">\n",
       "      <th></th>\n",
       "      <th>id</th>\n",
       "      <th>name</th>\n",
       "      <th>country</th>\n",
       "      <th>region</th>\n",
       "      <th>wmo</th>\n",
       "      <th>icao</th>\n",
       "      <th>latitude</th>\n",
       "      <th>longitude</th>\n",
       "      <th>elevation</th>\n",
       "      <th>timezone</th>\n",
       "      <th>hourly_start</th>\n",
       "      <th>hourly_end</th>\n",
       "      <th>daily_start</th>\n",
       "      <th>daily_end</th>\n",
       "      <th>monthly_start</th>\n",
       "      <th>monthly_end</th>\n",
       "      <th>distance</th>\n",
       "    </tr>\n",
       "  </thead>\n",
       "  <tbody>\n",
       "    <tr>\n",
       "      <th>0</th>\n",
       "      <td>72494</td>\n",
       "      <td>San Francisco Airport</td>\n",
       "      <td>US</td>\n",
       "      <td>CA</td>\n",
       "      <td>72494</td>\n",
       "      <td>KSFO</td>\n",
       "      <td>37.6167</td>\n",
       "      <td>-122.3667</td>\n",
       "      <td>3.0</td>\n",
       "      <td>America/Los_Angeles</td>\n",
       "      <td>1973-01-01</td>\n",
       "      <td>2023-05-11</td>\n",
       "      <td>1945-07-01</td>\n",
       "      <td>2023-05-03</td>\n",
       "      <td>1945-01-01</td>\n",
       "      <td>2022-01-01</td>\n",
       "      <td>338.279955</td>\n",
       "    </tr>\n",
       "    <tr>\n",
       "      <th>1</th>\n",
       "      <td>KSQL0</td>\n",
       "      <td>San Carlos / Silver Penny Mobile Home Park</td>\n",
       "      <td>US</td>\n",
       "      <td>CA</td>\n",
       "      <td>&lt;NA&gt;</td>\n",
       "      <td>KSQL</td>\n",
       "      <td>37.5119</td>\n",
       "      <td>-122.2495</td>\n",
       "      <td>2.0</td>\n",
       "      <td>America/Los_Angeles</td>\n",
       "      <td>2006-01-01</td>\n",
       "      <td>2023-05-11</td>\n",
       "      <td>2019-03-04</td>\n",
       "      <td>2022-04-24</td>\n",
       "      <td>2020-01-01</td>\n",
       "      <td>2022-01-01</td>\n",
       "      <td>15751.857328</td>\n",
       "    </tr>\n",
       "    <tr>\n",
       "      <th>2</th>\n",
       "      <td>72493</td>\n",
       "      <td>Metro Oakland International  Airport</td>\n",
       "      <td>US</td>\n",
       "      <td>CA</td>\n",
       "      <td>72493</td>\n",
       "      <td>KOAK</td>\n",
       "      <td>37.7167</td>\n",
       "      <td>-122.2333</td>\n",
       "      <td>2.0</td>\n",
       "      <td>America/Los_Angeles</td>\n",
       "      <td>1943-01-01</td>\n",
       "      <td>2023-05-11</td>\n",
       "      <td>1943-01-02</td>\n",
       "      <td>2023-05-03</td>\n",
       "      <td>1943-01-01</td>\n",
       "      <td>2022-01-01</td>\n",
       "      <td>15878.005861</td>\n",
       "    </tr>\n",
       "    <tr>\n",
       "      <th>3</th>\n",
       "      <td>KHAF0</td>\n",
       "      <td>Half Moon Bay / El Granada Mobile Home Park</td>\n",
       "      <td>US</td>\n",
       "      <td>CA</td>\n",
       "      <td>&lt;NA&gt;</td>\n",
       "      <td>KHAF</td>\n",
       "      <td>37.5134</td>\n",
       "      <td>-122.5012</td>\n",
       "      <td>20.0</td>\n",
       "      <td>America/Los_Angeles</td>\n",
       "      <td>2009-07-17</td>\n",
       "      <td>2023-05-11</td>\n",
       "      <td>2009-07-18</td>\n",
       "      <td>2022-04-24</td>\n",
       "      <td>2011-01-01</td>\n",
       "      <td>2022-01-01</td>\n",
       "      <td>16803.506587</td>\n",
       "    </tr>\n",
       "    <tr>\n",
       "      <th>4</th>\n",
       "      <td>74506</td>\n",
       "      <td>Alameda Naval Air Station</td>\n",
       "      <td>US</td>\n",
       "      <td>CA</td>\n",
       "      <td>74506</td>\n",
       "      <td>KNGZ</td>\n",
       "      <td>37.7833</td>\n",
       "      <td>-122.3167</td>\n",
       "      <td>4.0</td>\n",
       "      <td>America/Los_Angeles</td>\n",
       "      <td>1973-01-01</td>\n",
       "      <td>1997-01-01</td>\n",
       "      <td>1945-03-01</td>\n",
       "      <td>1996-12-31</td>\n",
       "      <td>1945-01-01</td>\n",
       "      <td>1996-01-01</td>\n",
       "      <td>18702.613349</td>\n",
       "    </tr>\n",
       "  </tbody>\n",
       "</table>\n",
       "</div>"
      ],
      "text/plain": [
       "      id                                         name country region    wmo  \\\n",
       "0  72494                        San Francisco Airport      US     CA  72494   \n",
       "1  KSQL0   San Carlos / Silver Penny Mobile Home Park      US     CA   <NA>   \n",
       "2  72493         Metro Oakland International  Airport      US     CA  72493   \n",
       "3  KHAF0  Half Moon Bay / El Granada Mobile Home Park      US     CA   <NA>   \n",
       "4  74506                    Alameda Naval Air Station      US     CA  74506   \n",
       "\n",
       "   icao  latitude  longitude  elevation             timezone hourly_start  \\\n",
       "0  KSFO   37.6167  -122.3667        3.0  America/Los_Angeles   1973-01-01   \n",
       "1  KSQL   37.5119  -122.2495        2.0  America/Los_Angeles   2006-01-01   \n",
       "2  KOAK   37.7167  -122.2333        2.0  America/Los_Angeles   1943-01-01   \n",
       "3  KHAF   37.5134  -122.5012       20.0  America/Los_Angeles   2009-07-17   \n",
       "4  KNGZ   37.7833  -122.3167        4.0  America/Los_Angeles   1973-01-01   \n",
       "\n",
       "  hourly_end daily_start  daily_end monthly_start monthly_end      distance  \n",
       "0 2023-05-11  1945-07-01 2023-05-03    1945-01-01  2022-01-01    338.279955  \n",
       "1 2023-05-11  2019-03-04 2022-04-24    2020-01-01  2022-01-01  15751.857328  \n",
       "2 2023-05-11  1943-01-02 2023-05-03    1943-01-01  2022-01-01  15878.005861  \n",
       "3 2023-05-11  2009-07-18 2022-04-24    2011-01-01  2022-01-01  16803.506587  \n",
       "4 1997-01-01  1945-03-01 1996-12-31    1945-01-01  1996-01-01  18702.613349  "
      ]
     },
     "execution_count": 5,
     "metadata": {},
     "output_type": "execute_result"
    }
   ],
   "source": [
    "nearest_station = stations.fetch(5).reset_index()\n",
    "nearest_station"
   ]
  },
  {
   "cell_type": "code",
   "execution_count": 6,
   "metadata": {},
   "outputs": [],
   "source": [
    "nearest_id = nearest_station['id'][0]"
   ]
  },
  {
   "cell_type": "code",
   "execution_count": 7,
   "metadata": {},
   "outputs": [],
   "source": [
    "start = datetime(2017, 6, 28)\n",
    "end = datetime(2019, 12, 31)\n",
    "\n",
    "# Get daily data\n",
    "sfo_data = Daily(nearest_id, start, end)\n",
    "sfo_data = sfo_data.fetch()\n",
    "# sfo_data.to_csv(\"\")"
   ]
  },
  {
   "cell_type": "code",
   "execution_count": 8,
   "metadata": {},
   "outputs": [
    {
     "data": {
      "text/plain": [
       "tavg      0\n",
       "tmin      0\n",
       "tmax      0\n",
       "prcp      0\n",
       "snow    190\n",
       "wdir    158\n",
       "wspd      0\n",
       "wpgt    917\n",
       "pres     15\n",
       "tsun    917\n",
       "dtype: int64"
      ]
     },
     "execution_count": 8,
     "metadata": {},
     "output_type": "execute_result"
    }
   ],
   "source": [
    "sfo_data.apply(lambda x: sum(x.isna()))"
   ]
  },
  {
   "cell_type": "code",
   "execution_count": 9,
   "metadata": {},
   "outputs": [
    {
     "data": {
      "text/plain": [
       "(917, 10)"
      ]
     },
     "execution_count": 9,
     "metadata": {},
     "output_type": "execute_result"
    }
   ],
   "source": [
    "sfo_data.shape"
   ]
  },
  {
   "cell_type": "code",
   "execution_count": 42,
   "metadata": {},
   "outputs": [],
   "source": [
    "# Get daily data\n",
    "oak_data = Daily(\"72493\", start, end)\n",
    "oak_data = oak_data.fetch()"
   ]
  },
  {
   "cell_type": "code",
   "execution_count": 1,
   "metadata": {},
   "outputs": [
    {
     "ename": "NameError",
     "evalue": "name 'sfo_data' is not defined",
     "output_type": "error",
     "traceback": [
      "\u001b[0;31m---------------------------------------------------------------------------\u001b[0m",
      "\u001b[0;31mNameError\u001b[0m                                 Traceback (most recent call last)",
      "Cell \u001b[0;32mIn[1], line 1\u001b[0m\n\u001b[0;32m----> 1\u001b[0m sfo_data\u001b[39m.\u001b[39mshape\n",
      "\u001b[0;31mNameError\u001b[0m: name 'sfo_data' is not defined"
     ]
    }
   ],
   "source": [
    "sfo_data.shape"
   ]
  },
  {
   "cell_type": "code",
   "execution_count": 49,
   "metadata": {},
   "outputs": [],
   "source": [
    "sfo_snow = sfo_data[~sfo_data.snow.isna()]\n"
   ]
  },
  {
   "cell_type": "code",
   "execution_count": 51,
   "metadata": {},
   "outputs": [
    {
     "data": {
      "text/plain": [
       "<Axes: xlabel='prcp', ylabel='Count'>"
      ]
     },
     "execution_count": 51,
     "metadata": {},
     "output_type": "execute_result"
    },
    {
     "data": {
      "image/png": "[encoded data removed]",
      "text/plain": [
       "<Figure size 640x480 with 1 Axes>"
      ]
     },
     "metadata": {},
     "output_type": "display_data"
    }
   ],
   "source": [
    "sns.lineplot()"
   ]
  },
  {
   "cell_type": "code",
   "execution_count": null,
   "metadata": {},
   "outputs": [],
   "source": []
  }
 ],
 "metadata": {
  "kernelspec": {
   "display_name": "enviro-env",
   "language": "python",
   "name": "python3"
  },
  "language_info": {
   "codemirror_mode": {
    "name": "ipython",
    "version": 3
   },
   "file_extension": ".py",
   "mimetype": "text/x-python",
   "name": "python",
   "nbconvert_exporter": "python",
   "pygments_lexer": "ipython3",
   "version": "3.11.3"
  },
  "orig_nbformat": 4
 },
 "nbformat": 4,
 "nbformat_minor": 2
}
