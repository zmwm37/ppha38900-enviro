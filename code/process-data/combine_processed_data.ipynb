{
 "cells": [
  {
   "cell_type": "code",
   "execution_count": null,
   "metadata": {},
   "outputs": [],
   "source": [
    "import pandas as pd \n",
    "import numpy as np"
   ]
  },
  {
   "cell_type": "code",
   "execution_count": null,
   "metadata": {},
   "outputs": [],
   "source": [
    "air = pd.read_csv('../../data/processed/aggregated_aqi_daily_max.csv')\n",
    "# bike = pd.read_csv('../../data/processed/aggregated_bikes.csv')\n",
    "bike = pd.read_csv('../../data/processed/aggregated_bikes_bsfa.csv')\n",
    "sta = pd.read_csv('../../data/processed/sta.csv')\n",
    "weather = pd.read_csv('../../data/processed/weather.csv')"
   ]
  },
  {
   "cell_type": "code",
   "execution_count": null,
   "metadata": {},
   "outputs": [],
   "source": [
    "#bike.shape\n",
    "bike.shape"
   ]
  },
  {
   "cell_type": "code",
   "execution_count": null,
   "metadata": {},
   "outputs": [],
   "source": [
    "bike"
   ]
  },
  {
   "cell_type": "code",
   "execution_count": null,
   "metadata": {},
   "outputs": [],
   "source": [
    "# NEW CODE \n",
    "bike['user_type_clean'] = np.where(bike['bike_share_for_all_trip'] == 'Yes', 'Subscriber - BSFA', \n",
    "                                        np.where((bike['user_type'] == 'Subscriber') & (bike['bike_share_for_all_trip'] == 'No'), 'Subscriber - Standard',\n",
    "                                            'Customer'))\n",
    "\n"
   ]
  },
  {
   "cell_type": "code",
   "execution_count": null,
   "metadata": {},
   "outputs": [],
   "source": [
    "bike.groupby([\"user_type_clean\", \"user_type\", 'bike_share_for_all_trip']).size()"
   ]
  },
  {
   "cell_type": "code",
   "execution_count": null,
   "metadata": {},
   "outputs": [],
   "source": [
    "# NEW CODE \n",
    "bike = bike.drop(['user_type', 'bike_share_for_all_trip'], axis=1) \\\n",
    "    .rename({'user_type_clean': 'user_type'})"
   ]
  },
  {
   "cell_type": "code",
   "execution_count": null,
   "metadata": {},
   "outputs": [],
   "source": [
    "air.shape"
   ]
  },
  {
   "cell_type": "code",
   "execution_count": null,
   "metadata": {},
   "outputs": [],
   "source": [
    "sta.shape"
   ]
  },
  {
   "cell_type": "code",
   "execution_count": null,
   "metadata": {},
   "outputs": [],
   "source": [
    "weather.shape"
   ]
  },
  {
   "cell_type": "code",
   "execution_count": null,
   "metadata": {},
   "outputs": [],
   "source": [
    "sta.groupby('date_clean').agg(n = ('date_clean', 'count')).sort_values('n')"
   ]
  },
  {
   "cell_type": "code",
   "execution_count": null,
   "metadata": {},
   "outputs": [],
   "source": [
    "air"
   ]
  },
  {
   "cell_type": "code",
   "execution_count": null,
   "metadata": {},
   "outputs": [],
   "source": [
    "weather"
   ]
  },
  {
   "cell_type": "code",
   "execution_count": null,
   "metadata": {},
   "outputs": [],
   "source": [
    "df = bike.merge(air, how='left', left_on='start_date', right_on='date')\n",
    "air_bike_size = df.shape[0]\n"
   ]
  },
  {
   "cell_type": "code",
   "execution_count": null,
   "metadata": {},
   "outputs": [],
   "source": [
    "df = df.merge(sta, how='left', left_on='date', right_on='date_clean')\n",
    "air_bike_sta_size = df.shape[0]\n",
    "print(f'Size of new ({air_bike_sta_size}) same as old ({air_bike_size})? -> {air_bike_sta_size == air_bike_size}')"
   ]
  },
  {
   "cell_type": "code",
   "execution_count": null,
   "metadata": {},
   "outputs": [],
   "source": [
    "df = df.merge(weather, how='left', left_on='date', right_on='time')\n",
    "air_bike_sta_weather_size = df.shape[0]\n",
    "print(f'Size of new ({air_bike_sta_weather_size}) same as old ({air_bike_size})? -> {air_bike_sta_weather_size == air_bike_size}')"
   ]
  },
  {
   "cell_type": "code",
   "execution_count": null,
   "metadata": {},
   "outputs": [],
   "source": [
    "df.groupby('date').agg(n = ('date', 'count')).sort_values('n')"
   ]
  },
  {
   "cell_type": "code",
   "execution_count": null,
   "metadata": {},
   "outputs": [],
   "source": [
    "df['sta'] = df['sta'].fillna(0)"
   ]
  },
  {
   "cell_type": "code",
   "execution_count": null,
   "metadata": {},
   "outputs": [],
   "source": [
    "df.groupby('date').agg(n=('date', 'count')).reset_index().groupby('n').count()"
   ]
  },
  {
   "cell_type": "code",
   "execution_count": null,
   "metadata": {},
   "outputs": [],
   "source": [
    "df_complete = df[~df['start_date'].isna()]\n",
    "df_complete.shape"
   ]
  },
  {
   "cell_type": "code",
   "execution_count": null,
   "metadata": {},
   "outputs": [],
   "source": [
    "df_complete.apply(lambda x: sum(x.isna()), axis=0)"
   ]
  },
  {
   "attachments": {},
   "cell_type": "markdown",
   "metadata": {},
   "source": [
    "NOTE FOR PAPER: wpgt and tsun are missing. So they are dropped. "
   ]
  },
  {
   "cell_type": "code",
   "execution_count": null,
   "metadata": {},
   "outputs": [],
   "source": [
    "df_complete['PM2.5'] = df_complete['PM2.5'].fillna(df_complete['PM2.5'].mean())\n",
    "df_complete['pres'] = df_complete['pres'].fillna(df_complete['pres'].mean())\n",
    "df_complete['snow'] = df_complete['snow'].fillna(df_complete['snow'].mean())\n",
    "df_complete['day_of_week'] = pd.to_datetime(df_complete['start_date']).dt.day_of_week"
   ]
  },
  {
   "cell_type": "code",
   "execution_count": null,
   "metadata": {},
   "outputs": [],
   "source": [
    "df_complete = df_complete.drop(['date_clean', 'date', 'wpgt', 'tsun', 'time', 'wdir'], axis=1)"
   ]
  },
  {
   "cell_type": "code",
   "execution_count": null,
   "metadata": {},
   "outputs": [],
   "source": [
    "df_complete.apply(lambda x: sum(x.isna()), axis=0)"
   ]
  },
  {
   "cell_type": "code",
   "execution_count": null,
   "metadata": {},
   "outputs": [],
   "source": [
    "df_complete.columns"
   ]
  },
  {
   "cell_type": "code",
   "execution_count": null,
   "metadata": {},
   "outputs": [],
   "source": [
    "# NEW CODE - RESIDUALS\n",
    "# TODO - impute missing values\n",
    "rolling_cols = ['num_trips', 'avg_duration', 'max_aqi', 'max_aqi_category', 'CO', 'NO2', 'OZONE', 'PM2.5', 'tavg', 'tmin', 'tmax', 'wspd', 'pres']\n",
    "df_complete = df_complete.sort_values(['user_type_clean', 'start_date']).reset_index()\n",
    "df_complete_rolling = df_complete.groupby(['user_type_clean', 'day_of_week']) \\\n",
    "    .rolling(window=9, center=True).mean() \\\n",
    "    .reset_index()\n",
    "\n",
    "df_complete_rolling.set_index('level_2', inplace=True)\n",
    "df_complete_rolling.sort_index(inplace=True)\n",
    "\n",
    "residuals = (df_complete[rolling_cols] - df_complete_rolling[rolling_cols]) / df_complete_rolling[rolling_cols]\n",
    "residuals = residuals.add_suffix('_res')"
   ]
  },
  {
   "cell_type": "code",
   "execution_count": null,
   "metadata": {},
   "outputs": [],
   "source": [
    "# join residuals onto df_complete\n",
    "# select columns of interest\n",
    "df_complete_residuals = df_complete.merge(residuals, left_index=True, right_index=True) \\\n",
    "    .dropna()"
   ]
  },
  {
   "cell_type": "code",
   "execution_count": null,
   "metadata": {},
   "outputs": [],
   "source": [
    "df_complete_residuals.apply(lambda x: sum(x.isna()), axis=0)"
   ]
  },
  {
   "cell_type": "code",
   "execution_count": null,
   "metadata": {},
   "outputs": [],
   "source": [
    "df_complete_residuals.head(20)"
   ]
  },
  {
   "cell_type": "code",
   "execution_count": null,
   "metadata": {},
   "outputs": [],
   "source": [
    "df_complete_rolling.head(20)"
   ]
  },
  {
   "cell_type": "code",
   "execution_count": null,
   "metadata": {},
   "outputs": [],
   "source": [
    "df_complete.head(20)"
   ]
  },
  {
   "cell_type": "code",
   "execution_count": null,
   "metadata": {},
   "outputs": [],
   "source": [
    "residuals.apply(lambda x: sum(x.isna()), axis=0)"
   ]
  },
  {
   "cell_type": "code",
   "execution_count": null,
   "metadata": {},
   "outputs": [],
   "source": [
    "residuals_complete = residuals.dropna()\n",
    "residuals_complete.head(20)"
   ]
  },
  {
   "cell_type": "code",
   "execution_count": null,
   "metadata": {},
   "outputs": [],
   "source": [
    "df_complete.head(20)"
   ]
  },
  {
   "cell_type": "code",
   "execution_count": null,
   "metadata": {},
   "outputs": [],
   "source": [
    "# NEW CODE - TIME LAG\n",
    "# \n",
    "df_complete_lags = df_complete[rolling_cols].assign(**{\n",
    "    f'{col} (t-{1})': df[col].shift(1)\n",
    "    for col in df\n",
    "})\n",
    "    "
   ]
  },
  {
   "cell_type": "code",
   "execution_count": null,
   "metadata": {},
   "outputs": [],
   "source": [
    "df_complete_lags[697:]"
   ]
  },
  {
   "cell_type": "code",
   "execution_count": null,
   "metadata": {},
   "outputs": [],
   "source": [
    "df_complete.head(20)"
   ]
  },
  {
   "cell_type": "code",
   "execution_count": null,
   "metadata": {},
   "outputs": [],
   "source": [
    "residuals.head(20)"
   ]
  },
  {
   "cell_type": "code",
   "execution_count": null,
   "metadata": {},
   "outputs": [],
   "source": [
    "df_complete_rolling[df_complete_rolling['user_type_clean'] == 'Subscriber - BSFA'].head(20)"
   ]
  },
  {
   "cell_type": "code",
   "execution_count": null,
   "metadata": {},
   "outputs": [],
   "source": [
    "len(df_complete.columns)"
   ]
  },
  {
   "cell_type": "code",
   "execution_count": null,
   "metadata": {},
   "outputs": [],
   "source": [
    "df[~df['start_date'].isna()].sort_values('date')"
   ]
  }
 ],
 "metadata": {
  "kernelspec": {
   "display_name": "enviro-env",
   "language": "python",
   "name": "python3"
  },
  "language_info": {
   "codemirror_mode": {
    "name": "ipython",
    "version": 3
   },
   "file_extension": ".py",
   "mimetype": "text/x-python",
   "name": "python",
   "nbconvert_exporter": "python",
   "pygments_lexer": "ipython3",
   "version": "3.11.3"
  },
  "orig_nbformat": 4
 },
 "nbformat": 4,
 "nbformat_minor": 2
}
